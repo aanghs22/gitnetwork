{
 "cells": [
  {
   "cell_type": "code",
   "execution_count": 2,
   "id": "7a8066e1-9377-420d-add3-9cb2cd258d28",
   "metadata": {},
   "outputs": [],
   "source": [
    "# Data Handling"
   ]
  },
  {
   "cell_type": "code",
   "execution_count": 3,
   "id": "b1404d6e-5fe1-47b7-94ec-82a0ab898aa2",
   "metadata": {},
   "outputs": [],
   "source": [
    "import pandas as pd\n",
    "bus_routes_csv = pd.read_csv(\"bus_routes.csv\")"
   ]
  },
  {
   "cell_type": "code",
   "execution_count": 5,
   "id": "67e19344-2a15-4a4f-9a74-80f7ac70f8c1",
   "metadata": {},
   "outputs": [
    {
     "name": "stdout",
     "output_type": "stream",
     "text": [
      "  ServiceNo Operator  Direction  StopSequence BusStopCode  Distance  \\\n",
      "0        10     SBST          1             1       75009       0.0   \n",
      "1        10     SBST          1             2       76059       0.6   \n",
      "2        10     SBST          1             3       76069       1.1   \n",
      "3        10     SBST          1             4       96289       2.3   \n",
      "4        10     SBST          1             5       96109       2.7   \n",
      "\n",
      "  WD_FirstBus WD_LastBus SAT_FirstBus SAT_LastBus SUN_FirstBus SUN_LastBus  \n",
      "0        0500       2300         0500        2300         0500        2300  \n",
      "1        0502       2302         0502        2302         0502        2302  \n",
      "2        0504       2304         0504        2304         0503        2304  \n",
      "3        0508       2308         0508        2309         0507        2308  \n",
      "4        0509       2310         0509        2311         0508        2309  \n"
     ]
    }
   ],
   "source": [
    "print(bus_routes_csv.head())"
   ]
  },
  {
   "cell_type": "code",
   "execution_count": null,
   "id": "17c698c2-4f76-491c-a38d-e9e8508e627e",
   "metadata": {},
   "outputs": [],
   "source": []
  },
  {
   "cell_type": "code",
   "execution_count": null,
   "id": "2d5944ec-bc07-484e-983c-70d4612be22a",
   "metadata": {},
   "outputs": [],
   "source": []
  }
 ],
 "metadata": {
  "kernelspec": {
   "display_name": "Python 3",
   "language": "python",
   "name": "python3"
  },
  "language_info": {
   "codemirror_mode": {
    "name": "ipython",
    "version": 3
   },
   "file_extension": ".py",
   "mimetype": "text/x-python",
   "name": "python",
   "nbconvert_exporter": "python",
   "pygments_lexer": "ipython3",
   "version": "3.9.5"
  }
 },
 "nbformat": 4,
 "nbformat_minor": 5
}
