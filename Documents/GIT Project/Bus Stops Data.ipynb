{
 "cells": [
  {
   "cell_type": "code",
   "execution_count": 2,
   "id": "f7a1b8b9-d331-452f-a7fa-ac1ae82d83f6",
   "metadata": {},
   "outputs": [],
   "source": [
    "import pandas as pd"
   ]
  },
  {
   "cell_type": "code",
   "execution_count": 3,
   "id": "f07a968a-f418-4575-a241-78d7da33c182",
   "metadata": {},
   "outputs": [],
   "source": [
    "bus_stops = pd.read_csv(\"bus_stops.csv\")\n",
    "bus_routes = pd.read_csv(\"bus_routes.csv\")"
   ]
  },
  {
   "cell_type": "code",
   "execution_count": 4,
   "id": "e5c60a4c-e496-4794-9462-df063d6c473c",
   "metadata": {},
   "outputs": [
    {
     "name": "stdout",
     "output_type": "stream",
     "text": [
      "      BusStopCode           RoadName             Description  Latitude  \\\n",
      "0            1012        Victoria St     Hotel Grand Pacific  1.296848   \n",
      "1            1013        Victoria St         St. Joseph's Ch  1.297710   \n",
      "2            1019        Victoria St         Bras Basah Cplx  1.296990   \n",
      "3            1029      Nth Bridge Rd            Opp Natl Lib  1.296673   \n",
      "4            1039      Nth Bridge Rd              Bugis Cube  1.298208   \n",
      "...           ...                ...                     ...       ...   \n",
      "5044        99139  Changi Village Rd                   Blk 5  1.388195   \n",
      "5045        99161          Nicoll Dr   Bef Changi Beach CP 3  1.390262   \n",
      "5046        99171          Nicoll Dr       Changi Beach CP 2  1.391128   \n",
      "5047        99181      Telok Paku Rd  Bef S'pore Aviation Ac  1.387754   \n",
      "5048        99189      Telok Paku Rd      S'pore Aviation Ac  1.388414   \n",
      "\n",
      "       Longitude  \n",
      "0     103.852536  \n",
      "1     103.853225  \n",
      "2     103.853022  \n",
      "3     103.854414  \n",
      "4     103.855491  \n",
      "...          ...  \n",
      "5044  103.987234  \n",
      "5045  103.992957  \n",
      "5046  103.991021  \n",
      "5047  103.988503  \n",
      "5048  103.989716  \n",
      "\n",
      "[5049 rows x 5 columns]\n"
     ]
    }
   ],
   "source": [
    "# Latitude and Longitude are separately stored\n",
    "print(bus_stops)"
   ]
  },
  {
   "cell_type": "code",
   "execution_count": 5,
   "id": "8e1dbb86-dcc0-4343-98f3-e2f46ce944b2",
   "metadata": {},
   "outputs": [],
   "source": [
    "import matplotlib.pyplot as plt"
   ]
  },
  {
   "cell_type": "code",
   "execution_count": 6,
   "id": "cd60ea05-1b32-4caa-9ced-6c5a07df8e67",
   "metadata": {},
   "outputs": [
    {
     "data": {
      "text/plain": [
       "<matplotlib.collections.PathCollection at 0x7fdbf74a7460>"
      ]
     },
     "execution_count": 6,
     "metadata": {},
     "output_type": "execute_result"
    },
    {
     "data": {
      "image/png": "[encoded data removed]",
      "text/plain": [
       "<Figure size 432x288 with 1 Axes>"
      ]
     },
     "metadata": {
      "needs_background": "light"
     },
     "output_type": "display_data"
    }
   ],
   "source": [
    "plt.scatter(x = bus_stops.Longitude, y = bus_stops.Latitude)"
   ]
  },
  {
   "cell_type": "code",
   "execution_count": 8,
   "id": "645705cb-d895-4980-8283-77cde435c52a",
   "metadata": {},
   "outputs": [
    {
     "name": "stdout",
     "output_type": "stream",
     "text": [
      "      ServiceNo Operator  Direction  StopSequence BusStopCode  Distance  \\\n",
      "0            10     SBST          1             1       75009       0.0   \n",
      "1            10     SBST          1             2       76059       0.6   \n",
      "2            10     SBST          1             3       76069       1.1   \n",
      "3            10     SBST          1             4       96289       2.3   \n",
      "4            10     SBST          1             5       96109       2.7   \n",
      "...         ...      ...        ...           ...         ...       ...   \n",
      "26248       NR8     SMRT          1            57       43839      22.9   \n",
      "26249       NR8     SMRT          1            58       43649      23.2   \n",
      "26250       NR8     SMRT          1            59       43589      23.7   \n",
      "26251       NR8     SMRT          1            60       43579      24.1   \n",
      "26252       NR8     SMRT          1            61       43609      24.4   \n",
      "\n",
      "      WD_FirstBus WD_LastBus SAT_FirstBus SAT_LastBus SUN_FirstBus SUN_LastBus  \n",
      "0            0500       2300         0500        2300         0500        2300  \n",
      "1            0502       2302         0502        2302         0502        2302  \n",
      "2            0504       2304         0504        2304         0503        2304  \n",
      "3            0508       2308         0508        2309         0507        2308  \n",
      "4            0509       2310         0509        2311         0508        2309  \n",
      "...           ...        ...          ...         ...          ...         ...  \n",
      "26248           -          -         0040        0305            -           -  \n",
      "26249           -          -         0041        0306            -           -  \n",
      "26250           -          -         0042        0307            -           -  \n",
      "26251           -          -         0043        0308            -           -  \n",
      "26252           -          -         0044        0309            -           -  \n",
      "\n",
      "[26253 rows x 12 columns]\n"
     ]
    }
   ],
   "source": [
    "print(bus_routes)"
   ]
  },
  {
   "cell_type": "code",
   "execution_count": 19,
   "id": "3fde5def-4e74-4bcb-8e2a-9fd8c799f699",
   "metadata": {},
   "outputs": [
    {
     "name": "stdout",
     "output_type": "stream",
     "text": [
      "ServiceNo        object\n",
      "Operator         object\n",
      "Direction         int64\n",
      "StopSequence      int64\n",
      "BusStopCode      object\n",
      "Distance        float64\n",
      "WD_FirstBus      object\n",
      "WD_LastBus       object\n",
      "SAT_FirstBus     object\n",
      "SAT_LastBus      object\n",
      "SUN_FirstBus     object\n",
      "SUN_LastBus      object\n",
      "dtype: object\n"
     ]
    }
   ],
   "source": [
    "# Merging the 2 files on the \"BusStopCode\" column\n",
    "\n",
    "# ValueError: You are trying to merge on int64 and object columns. If you wish to proceed you should use pd.concat\n",
    "\n",
    "# Concat does not give me what I want.\n",
    "# bus_r_and_s = pd.concat((bus_stops, bus_routes), axis = 1)\n",
    "\n",
    "print(bus_routes.dtypes)"
   ]
  },
  {
   "cell_type": "code",
   "execution_count": 20,
   "id": "21c323cc-6c92-426a-992f-b5f62f335594",
   "metadata": {},
   "outputs": [
    {
     "name": "stdout",
     "output_type": "stream",
     "text": [
      "BusStopCode      Int64\n",
      "RoadName        object\n",
      "Description     object\n",
      "Latitude       float64\n",
      "Longitude      float64\n",
      "dtype: object\n"
     ]
    }
   ],
   "source": [
    "print(bus_stops.dtypes)"
   ]
  },
  {
   "cell_type": "code",
   "execution_count": 37,
   "id": "30c21213-41e4-44ee-b5e1-f6f528f57de8",
   "metadata": {},
   "outputs": [
    {
     "data": {
      "text/html": [
       "<div>\n",
       "<style scoped>\n",
       "    .dataframe tbody tr th:only-of-type {\n",
       "        vertical-align: middle;\n",
       "    }\n",
       "\n",
       "    .dataframe tbody tr th {\n",
       "        vertical-align: top;\n",
       "    }\n",
       "\n",
       "    .dataframe thead th {\n",
       "        text-align: right;\n",
       "    }\n",
       "</style>\n",
       "<table border=\"1\" class=\"dataframe\">\n",
       "  <thead>\n",
       "    <tr style=\"text-align: right;\">\n",
       "      <th></th>\n",
       "      <th>BusStopCode</th>\n",
       "      <th>RoadName</th>\n",
       "      <th>Description</th>\n",
       "      <th>Latitude</th>\n",
       "      <th>Longitude</th>\n",
       "      <th>ServiceNo</th>\n",
       "      <th>Operator</th>\n",
       "      <th>Direction</th>\n",
       "      <th>StopSequence</th>\n",
       "      <th>Distance</th>\n",
       "      <th>WD_FirstBus</th>\n",
       "      <th>WD_LastBus</th>\n",
       "      <th>SAT_FirstBus</th>\n",
       "      <th>SAT_LastBus</th>\n",
       "      <th>SUN_FirstBus</th>\n",
       "      <th>SUN_LastBus</th>\n",
       "    </tr>\n",
       "  </thead>\n",
       "  <tbody>\n",
       "  </tbody>\n",
       "</table>\n",
       "</div>"
      ],
      "text/plain": [
       "Empty DataFrame\n",
       "Columns: [BusStopCode, RoadName, Description, Latitude, Longitude, ServiceNo, Operator, Direction, StopSequence, Distance, WD_FirstBus, WD_LastBus, SAT_FirstBus, SAT_LastBus, SUN_FirstBus, SUN_LastBus]\n",
       "Index: []"
      ]
     },
     "execution_count": 37,
     "metadata": {},
     "output_type": "execute_result"
    }
   ],
   "source": [
    "# Version 1\n",
    "# Need to convert Int64 type to Object type\n",
    "bus_stops[\"BusStopCode\"] = bus_stops[\"BusStopCode\"].astype(\"object\")\n",
    "bus_r_and_s_2 = bus_stops.merge(bus_routes, on=\"BusStopCode\")\n",
    "bus_r_and_s_2.head()\n",
    "##  WHY IS IT BLANK :("
   ]
  },
  {
   "cell_type": "code",
   "execution_count": 38,
   "id": "2638fc59-d272-4762-89ea-7012609219c3",
   "metadata": {},
   "outputs": [],
   "source": [
    "# Version 2 \n",
    "bus_r_and_s = bus_stops.merge(bus_routes,\n",
    "                         how = 'left', \n",
    "                         left_on = 'BusStopCode',\n",
    "                         right_on = 'BusStopCode')"
   ]
  },
  {
   "cell_type": "code",
   "execution_count": 39,
   "id": "54ec5fe1-8678-47ec-8557-b60211da8c1b",
   "metadata": {},
   "outputs": [
    {
     "data": {
      "text/html": [
       "<div>\n",
       "<style scoped>\n",
       "    .dataframe tbody tr th:only-of-type {\n",
       "        vertical-align: middle;\n",
       "    }\n",
       "\n",
       "    .dataframe tbody tr th {\n",
       "        vertical-align: top;\n",
       "    }\n",
       "\n",
       "    .dataframe thead th {\n",
       "        text-align: right;\n",
       "    }\n",
       "</style>\n",
       "<table border=\"1\" class=\"dataframe\">\n",
       "  <thead>\n",
       "    <tr style=\"text-align: right;\">\n",
       "      <th></th>\n",
       "      <th>BusStopCode</th>\n",
       "      <th>RoadName</th>\n",
       "      <th>Description</th>\n",
       "      <th>Latitude</th>\n",
       "      <th>Longitude</th>\n",
       "      <th>ServiceNo</th>\n",
       "      <th>Operator</th>\n",
       "      <th>Direction</th>\n",
       "      <th>StopSequence</th>\n",
       "      <th>Distance</th>\n",
       "      <th>WD_FirstBus</th>\n",
       "      <th>WD_LastBus</th>\n",
       "      <th>SAT_FirstBus</th>\n",
       "      <th>SAT_LastBus</th>\n",
       "      <th>SUN_FirstBus</th>\n",
       "      <th>SUN_LastBus</th>\n",
       "    </tr>\n",
       "  </thead>\n",
       "  <tbody>\n",
       "    <tr>\n",
       "      <th>0</th>\n",
       "      <td>1012</td>\n",
       "      <td>Victoria St</td>\n",
       "      <td>Hotel Grand Pacific</td>\n",
       "      <td>1.296848</td>\n",
       "      <td>103.852536</td>\n",
       "      <td>NaN</td>\n",
       "      <td>NaN</td>\n",
       "      <td>NaN</td>\n",
       "      <td>NaN</td>\n",
       "      <td>NaN</td>\n",
       "      <td>NaN</td>\n",
       "      <td>NaN</td>\n",
       "      <td>NaN</td>\n",
       "      <td>NaN</td>\n",
       "      <td>NaN</td>\n",
       "      <td>NaN</td>\n",
       "    </tr>\n",
       "    <tr>\n",
       "      <th>1</th>\n",
       "      <td>1013</td>\n",
       "      <td>Victoria St</td>\n",
       "      <td>St. Joseph's Ch</td>\n",
       "      <td>1.297710</td>\n",
       "      <td>103.853225</td>\n",
       "      <td>NaN</td>\n",
       "      <td>NaN</td>\n",
       "      <td>NaN</td>\n",
       "      <td>NaN</td>\n",
       "      <td>NaN</td>\n",
       "      <td>NaN</td>\n",
       "      <td>NaN</td>\n",
       "      <td>NaN</td>\n",
       "      <td>NaN</td>\n",
       "      <td>NaN</td>\n",
       "      <td>NaN</td>\n",
       "    </tr>\n",
       "    <tr>\n",
       "      <th>2</th>\n",
       "      <td>1019</td>\n",
       "      <td>Victoria St</td>\n",
       "      <td>Bras Basah Cplx</td>\n",
       "      <td>1.296990</td>\n",
       "      <td>103.853022</td>\n",
       "      <td>NaN</td>\n",
       "      <td>NaN</td>\n",
       "      <td>NaN</td>\n",
       "      <td>NaN</td>\n",
       "      <td>NaN</td>\n",
       "      <td>NaN</td>\n",
       "      <td>NaN</td>\n",
       "      <td>NaN</td>\n",
       "      <td>NaN</td>\n",
       "      <td>NaN</td>\n",
       "      <td>NaN</td>\n",
       "    </tr>\n",
       "    <tr>\n",
       "      <th>3</th>\n",
       "      <td>1029</td>\n",
       "      <td>Nth Bridge Rd</td>\n",
       "      <td>Opp Natl Lib</td>\n",
       "      <td>1.296673</td>\n",
       "      <td>103.854414</td>\n",
       "      <td>NaN</td>\n",
       "      <td>NaN</td>\n",
       "      <td>NaN</td>\n",
       "      <td>NaN</td>\n",
       "      <td>NaN</td>\n",
       "      <td>NaN</td>\n",
       "      <td>NaN</td>\n",
       "      <td>NaN</td>\n",
       "      <td>NaN</td>\n",
       "      <td>NaN</td>\n",
       "      <td>NaN</td>\n",
       "    </tr>\n",
       "    <tr>\n",
       "      <th>4</th>\n",
       "      <td>1039</td>\n",
       "      <td>Nth Bridge Rd</td>\n",
       "      <td>Bugis Cube</td>\n",
       "      <td>1.298208</td>\n",
       "      <td>103.855491</td>\n",
       "      <td>NaN</td>\n",
       "      <td>NaN</td>\n",
       "      <td>NaN</td>\n",
       "      <td>NaN</td>\n",
       "      <td>NaN</td>\n",
       "      <td>NaN</td>\n",
       "      <td>NaN</td>\n",
       "      <td>NaN</td>\n",
       "      <td>NaN</td>\n",
       "      <td>NaN</td>\n",
       "      <td>NaN</td>\n",
       "    </tr>\n",
       "  </tbody>\n",
       "</table>\n",
       "</div>"
      ],
      "text/plain": [
       "  BusStopCode       RoadName          Description  Latitude   Longitude  \\\n",
       "0        1012    Victoria St  Hotel Grand Pacific  1.296848  103.852536   \n",
       "1        1013    Victoria St      St. Joseph's Ch  1.297710  103.853225   \n",
       "2        1019    Victoria St      Bras Basah Cplx  1.296990  103.853022   \n",
       "3        1029  Nth Bridge Rd         Opp Natl Lib  1.296673  103.854414   \n",
       "4        1039  Nth Bridge Rd           Bugis Cube  1.298208  103.855491   \n",
       "\n",
       "  ServiceNo Operator  Direction  StopSequence  Distance WD_FirstBus  \\\n",
       "0       NaN      NaN        NaN           NaN       NaN         NaN   \n",
       "1       NaN      NaN        NaN           NaN       NaN         NaN   \n",
       "2       NaN      NaN        NaN           NaN       NaN         NaN   \n",
       "3       NaN      NaN        NaN           NaN       NaN         NaN   \n",
       "4       NaN      NaN        NaN           NaN       NaN         NaN   \n",
       "\n",
       "  WD_LastBus SAT_FirstBus SAT_LastBus SUN_FirstBus SUN_LastBus  \n",
       "0        NaN          NaN         NaN          NaN         NaN  \n",
       "1        NaN          NaN         NaN          NaN         NaN  \n",
       "2        NaN          NaN         NaN          NaN         NaN  \n",
       "3        NaN          NaN         NaN          NaN         NaN  \n",
       "4        NaN          NaN         NaN          NaN         NaN  "
      ]
     },
     "execution_count": 39,
     "metadata": {},
     "output_type": "execute_result"
    }
   ],
   "source": [
    "bus_r_and_s.head()\n",
    "# Why is it shown as NaN :("
   ]
  },
  {
   "cell_type": "code",
   "execution_count": null,
   "id": "8d50aba6-b71b-4e83-b727-22983af0c396",
   "metadata": {},
   "outputs": [],
   "source": []
  }
 ],
 "metadata": {
  "kernelspec": {
   "display_name": "Python 3",
   "language": "python",
   "name": "python3"
  },
  "language_info": {
   "codemirror_mode": {
    "name": "ipython",
    "version": 3
   },
   "file_extension": ".py",
   "mimetype": "text/x-python",
   "name": "python",
   "nbconvert_exporter": "python",
   "pygments_lexer": "ipython3",
   "version": "3.9.5"
  }
 },
 "nbformat": 4,
 "nbformat_minor": 5
}
