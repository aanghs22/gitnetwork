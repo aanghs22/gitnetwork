{
 "cells": [
  {
   "cell_type": "code",
   "execution_count": 17,
   "id": "140777c6-1bd7-46f6-8868-c9188a1d6c40",
   "metadata": {},
   "outputs": [],
   "source": [
    "# Graphs nOdes raNdoM THINGS\n",
    "import networkx as nx\n",
    "import matplotlib.pyplot as plt"
   ]
  },
  {
   "cell_type": "code",
   "execution_count": 18,
   "id": "5775309b-5879-4613-9b6a-f45c582e21bf",
   "metadata": {},
   "outputs": [],
   "source": [
    "# Create an empty graph\n",
    "G = nx.Graph()"
   ]
  },
  {
   "cell_type": "code",
   "execution_count": 19,
   "id": "32bd4cc0-e5e7-43ba-907c-93bf96a510fc",
   "metadata": {},
   "outputs": [],
   "source": [
    "# Basic stuff\n",
    "#\n",
    "# 1. Adding nodes\n",
    "# G.add_nodes_from(list)\n",
    "#\n",
    "# 2. Adding edges between nodes\n",
    "# G.add_edge(node1, node2)\n",
    "#\n",
    "# 3. Viewing the current nodes and edges in the graph\n",
    "# G.nodes() : returns a list of nodes that are present in the graph\n",
    "# G.edges() : returns a list of tuples where each tuple shows the nodes that are on the edge\n",
    "#\n",
    "# 4. Labelling of nodes\n",
    "# G.nodes[node_number]['label'] = 'label name'\n",
    "#\n",
    "# To view metadata: \n",
    "# G.nodes(data=True) : returns a list of 2-tuples (first_element=node, second_element=dictionary where the kvps corresponds to my metadata)\n",
    "#\n",
    "# 5. Drawing a simple network\n",
    "# nx.draw(G)"
   ]
  },
  {
   "cell_type": "code",
   "execution_count": 20,
   "id": "d68d2e00-2dd1-49d3-9624-d67aa3c34988",
   "metadata": {},
   "outputs": [],
   "source": [
    "# Test Code\n",
    "G.add_nodes_from([1, 2, 3])\n",
    "G.add_edge(1, 2)"
   ]
  },
  {
   "cell_type": "code",
   "execution_count": 21,
   "id": "527fe609-0fa0-48da-972b-8ff6b43ef5c8",
   "metadata": {},
   "outputs": [
    {
     "data": {
      "image/png": "[encoded data removed]",
      "text/plain": [
       "<Figure size 432x288 with 1 Axes>"
      ]
     },
     "metadata": {},
     "output_type": "display_data"
    }
   ],
   "source": [
    "nx.draw(G)"
   ]
  },
  {
   "cell_type": "code",
   "execution_count": 22,
   "id": "f2a00527-adb8-4d11-a1a9-a7f6d6208448",
   "metadata": {},
   "outputs": [],
   "source": [
    "# Usually, need this step to display the graph, but not on JupyterLab\n",
    "# plt.show()"
   ]
  },
  {
   "cell_type": "code",
   "execution_count": null,
   "id": "43affbd5-8ddd-4e5e-8084-7a5c2f37698d",
   "metadata": {},
   "outputs": [],
   "source": []
  }
 ],
 "metadata": {
  "kernelspec": {
   "display_name": "Python 3",
   "language": "python",
   "name": "python3"
  },
  "language_info": {
   "codemirror_mode": {
    "name": "ipython",
    "version": 3
   },
   "file_extension": ".py",
   "mimetype": "text/x-python",
   "name": "python",
   "nbconvert_exporter": "python",
   "pygments_lexer": "ipython3",
   "version": "3.9.5"
  }
 },
 "nbformat": 4,
 "nbformat_minor": 5
}
