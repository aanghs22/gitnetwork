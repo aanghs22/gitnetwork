{
 "cells": [
  {
   "cell_type": "code",
   "execution_count": null,
   "id": "65511f2e-88fa-424e-ba9e-8b314ec42ce5",
   "metadata": {},
   "outputs": [],
   "source": [
    "# How to deal with Shape Files\n"
   ]
  }
 ],
 "metadata": {
  "kernelspec": {
   "display_name": "Python 3",
   "language": "python",
   "name": "python3"
  },
  "language_info": {
   "codemirror_mode": {
    "name": "ipython",
    "version": 3
   },
   "file_extension": ".py",
   "mimetype": "text/x-python",
   "name": "python",
   "nbconvert_exporter": "python",
   "pygments_lexer": "ipython3",
   "version": "3.9.5"
  }
 },
 "nbformat": 4,
 "nbformat_minor": 5
}
